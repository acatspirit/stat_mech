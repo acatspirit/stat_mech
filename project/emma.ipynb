{
 "cells": [
  {
   "cell_type": "code",
   "execution_count": 8,
   "metadata": {},
   "outputs": [],
   "source": [
    "import numpy as np\n",
    "import matplotlib.pyplot as plt"
   ]
  },
  {
   "cell_type": "code",
   "execution_count": 163,
   "metadata": {},
   "outputs": [],
   "source": [
    "# Define the class for Lattice\n",
    "class Lattice(object):\n",
    "    \"\"\"A user-defined data structure that stores and manipulates lattice (2D - arrays)\n",
    "    \"\"\"\n",
    "\n",
    "    def __init__(self, width, height, p):\n",
    "        \"\"\"Constructs a board of width and height\"\"\"\n",
    "        self.height = height\n",
    "        self.width = width\n",
    "        self.init_random = np.random.rand(self.height, self.width)\n",
    "        self.data = np.zeros(shape = (height,width))\n",
    "        self.p = p\n",
    "        self.clusters = []\n",
    "        self.visited = set()\n",
    "        \n",
    "        for i in range(0, height):\n",
    "            for j in range(0, width):\n",
    "                # if a random number is less than the probability picked, fill the lattice\n",
    "                if self.init_random[i][j] <= self.p: \n",
    "                    self.data[i][j] = 1\n",
    "                else:\n",
    "                    self.data[i][j] = 0\n",
    "                    \n",
    "    \n",
    "    def __repr__(self):\n",
    "        \"\"\"Creates a 2D representation of the board object\"\"\"\n",
    "        plt.imshow(self.data, cmap='gray')\n",
    "        plt.show()\n",
    "        return \"\"\n",
    "    \n",
    "    def clear(self):\n",
    "        \"\"\"clears the board, making the board only contain ' ' strings\n",
    "        Return: nothing, the 2D array is changed\n",
    "        \"\"\"\n",
    "        for i in range(0, self.height):\n",
    "            for j in range(0, self.width):\n",
    "                # clears the data and all of the arrays that have to do with the data\n",
    "                self.data[i][j] = 0\n",
    "                self.clusters = []\n",
    "                self.visited.clear()\n",
    "\n",
    "                \n",
    "    def random_populate(self, new_p):\n",
    "        self.clear()\n",
    "        self.init_random = np.random.rand(self.height, self.width)\n",
    "        self.data = np.zeros(shape = (self.height,self.width))\n",
    "        for i in range(0, self.height):\n",
    "            for j in range(0, self.width):\n",
    "                # if a random number is less than the probability picked, fill the lattice\n",
    "                if self.init_random[i][j] <= new_p: \n",
    "                    self.data[i][j] = 1\n",
    "                else:\n",
    "                    self.data[i][j] = 0\n",
    "        return self\n",
    "    \n",
    "    def change_probability(self, new_p):\n",
    "        self.clear()\n",
    "        for i in range(0, self.height):\n",
    "            for j in range(0, self.width):\n",
    "                # if a random number is less than the probability picked, fill the lattice\n",
    "                if self.init_random[i][j] <= new_p: \n",
    "                    self.data[i][j] = 1\n",
    "                else:\n",
    "                    self.data[i][j] = 0\n",
    "        return self\n",
    "    \n",
    "    def color_spanning_cluster(self):\n",
    "        \"\"\"Colors spanning clusters \"\"\"\n",
    "        num_clusters, clusters, spanning = self.get_clusters()\n",
    "        span_data = self.data\n",
    "        if spanning != []:\n",
    "            for i in range(self.height):\n",
    "                for j in range(self.width):\n",
    "                    if (i, j) in spanning[0]:\n",
    "                        span_data[i][j] = -1\n",
    "            plt.imshow(span_data, cmap='gray')\n",
    "            plt.show()\n",
    "        return \"\"\n",
    "\n",
    "    def get_clusters(self):\n",
    "        \"\"\"From a lattice, returns the number of clusters, the list of clusters and the tuples for each cell that\n",
    "        makes up the cluster, and any spanning cluster. \"\"\"\n",
    "        \n",
    "        span_clusters = []\n",
    "        \n",
    "        # find all clusters, double counting is ok\n",
    "        for i in range(self.height):\n",
    "            for j in range(self.width):\n",
    "                if self.data[i][j] == 1 and (i, j) not in self.visited:\n",
    "                    cluster = self.finish_cluster(i,j)\n",
    "                    self.clusters.append(cluster)\n",
    "\n",
    "        # assume we are always doing squares\n",
    "        for cluster in self.clusters:\n",
    "            if len(cluster) >= self.height and cluster not in span_clusters:\n",
    "                for cell in cluster:\n",
    "                    # if the cluster has a cell at row = 0 and col = 0\n",
    "                    if cell[0] == 0 and cell[1] == 0:\n",
    "                        for second_cell in cluster:\n",
    "                            if (second_cell[0] == self.width - 1) or (second_cell[1] == self.height - 1):\n",
    "                                if cluster not in span_clusters:\n",
    "                                    span_clusters.append(cluster)\n",
    "                                break\n",
    "                        \n",
    "                    # if the cluster has a cell at col = 0\n",
    "                    if cell[0] == 0:\n",
    "                        for second_cell in cluster:\n",
    "                            if second_cell[0] == self.width - 1:\n",
    "                                if cluster not in span_clusters:\n",
    "                                    span_clusters.append(cluster)\n",
    "                                break\n",
    "                                \n",
    "                                \n",
    "                    # if the cluster has a cell at row = 0\n",
    "                    if cell[1] == 0:\n",
    "                        for second_cell in cluster:\n",
    "                            if second_cell[1] == self.height - 1:\n",
    "                                if cluster not in span_clusters:\n",
    "                                    span_clusters.append(cluster)\n",
    "                                break\n",
    "                                \n",
    "\n",
    "\n",
    "        \n",
    "        num_clusters = len(self.clusters)      \n",
    "        return num_clusters, self.clusters, span_clusters\n",
    "    \n",
    "    def finish_cluster(self, i, j):\n",
    "        \"\"\"Helper function to get_clusters. finish_cluster is a recursive function that returns all adjacent\n",
    "        cells to a given cell that read 1. Returns a list \"\"\"\n",
    "        if not (0 <= i < self.height and 0 <= j < self.width):\n",
    "             return []\n",
    "        if self.data[i][j] != 1 or (i, j) in self.visited:\n",
    "            return []\n",
    "        self.visited.add((i, j))\n",
    "        res = [(i, j)]\n",
    "        res += self.finish_cluster(i-1, j)\n",
    "        res += self.finish_cluster(i+1, j)\n",
    "        res += (self.finish_cluster(i, j+1))\n",
    "        res += (self.finish_cluster(i,j-1))\n",
    "        return res \n",
    "\n",
    "\n"
   ]
  },
  {
   "cell_type": "code",
   "execution_count": 164,
   "metadata": {},
   "outputs": [],
   "source": [
    "lattice = Lattice(10,10,0.7)"
   ]
  },
  {
   "cell_type": "code",
   "execution_count": 165,
   "metadata": {},
   "outputs": [
    {
     "data": {
      "image/png": "[encoded data removed]",
      "text/plain": [
       "<Figure size 432x288 with 1 Axes>"
      ]
     },
     "metadata": {
      "needs_background": "light"
     },
     "output_type": "display_data"
    },
    {
     "name": "stdout",
     "output_type": "stream",
     "text": [
      "\n",
      "[[0.76397612 0.73920248 0.58697212 0.55294338 0.92242676 0.08406283\n",
      "  0.41074833 0.66098064 0.14629224 0.24763984]\n",
      " [0.83552064 0.77718944 0.61467134 0.57697514 0.63997529 0.31487936\n",
      "  0.14230602 0.44651946 0.19799792 0.4154249 ]\n",
      " [0.29445044 0.24950395 0.2855157  0.05380027 0.19311806 0.30488629\n",
      "  0.6135737  0.77549309 0.55461985 0.01551835]\n",
      " [0.83792093 0.40281677 0.37930005 0.12475131 0.33285336 0.43414534\n",
      "  0.30196753 0.25055799 0.51206751 0.57259548]\n",
      " [0.5970941  0.51591137 0.25194303 0.09108915 0.56132054 0.05606673\n",
      "  0.54802792 0.80165867 0.42116521 0.87902711]\n",
      " [0.36140205 0.34062594 0.70012442 0.30989903 0.74415818 0.27265807\n",
      "  0.29316288 0.85373006 0.28345233 0.61691762]\n",
      " [0.31318669 0.2748321  0.63426354 0.71059575 0.24672109 0.5288842\n",
      "  0.82124265 0.00184086 0.14182111 0.10692936]\n",
      " [0.89205915 0.00111388 0.57596189 0.85065577 0.54471095 0.20351033\n",
      "  0.63001312 0.07612416 0.29699648 0.12173282]\n",
      " [0.13756893 0.77902074 0.77563355 0.34448681 0.14945173 0.39028147\n",
      "  0.20873635 0.10097777 0.55487298 0.49929469]\n",
      " [0.89404157 0.96713587 0.18333215 0.97782228 0.11107063 0.33343243\n",
      "  0.30147232 0.83499139 0.28175944 0.38451776]]\n"
     ]
    },
    {
     "data": {
      "image/png": "[encoded data removed]",
      "text/plain": [
       "<Figure size 432x288 with 1 Axes>"
      ]
     },
     "metadata": {
      "needs_background": "light"
     },
     "output_type": "display_data"
    },
    {
     "data": {
      "text/plain": [
       "''"
      ]
     },
     "execution_count": 165,
     "metadata": {},
     "output_type": "execute_result"
    }
   ],
   "source": [
    "print(lattice)\n",
    "print(lattice.init_random)\n",
    "lattice.color_spanning_cluster()"
   ]
  },
  {
   "cell_type": "code",
   "execution_count": 166,
   "metadata": {},
   "outputs": [
    {
     "name": "stdout",
     "output_type": "stream",
     "text": [
      "[[0. 0. 0. 0. 0. 0. 0. 0. 0. 0.]\n",
      " [0. 0. 0. 0. 0. 0. 0. 0. 0. 0.]\n",
      " [0. 0. 0. 0. 0. 0. 0. 0. 0. 0.]\n",
      " [0. 0. 0. 0. 0. 0. 0. 0. 0. 0.]\n",
      " [0. 0. 0. 0. 0. 0. 0. 0. 0. 0.]\n",
      " [0. 0. 0. 0. 0. 0. 0. 0. 0. 0.]\n",
      " [0. 0. 0. 0. 0. 0. 0. 0. 0. 0.]\n",
      " [0. 0. 0. 0. 0. 0. 0. 0. 0. 0.]\n",
      " [0. 0. 0. 0. 0. 0. 0. 0. 0. 0.]\n",
      " [0. 0. 0. 0. 0. 0. 0. 0. 0. 0.]]\n",
      "[]\n",
      "Number of clusters: 0\n",
      "\n",
      "Clusters: \n",
      " []\n",
      "\n",
      "Number of Spanning Clusters: 0\n",
      "\n",
      "Spanning Clusters: \n",
      " []\n"
     ]
    }
   ],
   "source": [
    "lattice_new = lattice.change_probability(0)\n",
    "print(lattice_new.data)\n",
    "num_clusters, clusters, spanning = lattice_new.get_clusters()\n",
    "print(lattice_new.get_clusters()[2])\n",
    "lattice_new.get_clusters()[2]\n",
    "\n",
    "print(f\"Number of clusters: {num_clusters}\")\n",
    "print()\n",
    "print(f\"Clusters: \\n {clusters}\")\n",
    "print()\n",
    "print(f\"Number of Spanning Clusters: {len(spanning)}\")\n",
    "print()\n",
    "print(f\"Spanning Clusters: \\n {spanning}\")"
   ]
  },
  {
   "cell_type": "code",
   "execution_count": 178,
   "metadata": {},
   "outputs": [
    {
     "name": "stdout",
     "output_type": "stream",
     "text": [
      "[0.6000000000000001, 0.56, 0.6200000000000001, 0.5800000000000001, 0.64, 0.6000000000000001, 0.6100000000000001, 0.6200000000000001, 0.63, 0.5900000000000002]\n",
      "0.6050000000000001\n"
     ]
    }
   ],
   "source": [
    "threshold = []\n",
    "board = Lattice(80,80,0)\n",
    "\n",
    "for i in np.arange(0,0.1,0.01):\n",
    "    lat = board.random_populate(i)\n",
    "    for j in np.arange(i, 1.05, 0.05):\n",
    "        lat_new = lat.change_probability(j)\n",
    "        #print(lat_new)\n",
    "        num_clusters, clusters, spanning = lat_new.get_clusters()\n",
    "        #print(num_clusters,clusters,spanning)\n",
    "        if spanning != []:\n",
    "            threshold.append(j)\n",
    "            break\n",
    "            \n",
    "print(threshold)\n",
    "print(sum(threshold) / len(threshold))\n"
   ]
  },
  {
   "cell_type": "code",
   "execution_count": null,
   "metadata": {},
   "outputs": [],
   "source": []
  }
 ],
 "metadata": {
  "kernelspec": {
   "display_name": "Python 3",
   "language": "python",
   "name": "python3"
  },
  "language_info": {
   "codemirror_mode": {
    "name": "ipython",
    "version": 3
   },
   "file_extension": ".py",
   "mimetype": "text/x-python",
   "name": "python",
   "nbconvert_exporter": "python",
   "pygments_lexer": "ipython3",
   "version": "3.8.3"
  },
  "vscode": {
   "interpreter": {
    "hash": "40d3a090f54c6569ab1632332b64b2c03c39dcf918b08424e98f38b5ae0af88f"
   }
  }
 },
 "nbformat": 4,
 "nbformat_minor": 4
}
