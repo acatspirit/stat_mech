{
 "cells": [
  {
   "cell_type": "code",
   "execution_count": 1,
   "metadata": {},
   "outputs": [],
   "source": [
    "import numpy as np\n",
    "import matplotlib.pyplot as plt"
   ]
  },
  {
   "cell_type": "code",
   "execution_count": 2,
   "metadata": {},
   "outputs": [],
   "source": [
    "# Define the class for Lattice\n",
    "class Lattice(object):\n",
    "    \"\"\"A user-defined data structure that stores and manipulates lattice (2D - arrays)\n",
    "    \"\"\"\n",
    "\n",
    "    def __init__(self, width, height, p):\n",
    "        \"\"\"Constructs a board of width and height\"\"\"\n",
    "        self.height = height\n",
    "        self.width = width\n",
    "        self.data = np.random.rand(self.height, self.width)\n",
    "        self.p = p\n",
    "        self.clusters = []\n",
    "        self.visited = set()\n",
    "\n",
    "        for i in range(0, height):\n",
    "            for j in range(0, width):\n",
    "                # if a random number is less than the probability picked, fill the lattice\n",
    "                if self.data[i][j] <= self.p: \n",
    "                    self.data[i][j] = 1\n",
    "                else:\n",
    "                    self.data[i][j] = 0\n",
    "    \n",
    "    def __repr__(self):\n",
    "        \"\"\"Creates a 2D representation of the board object\"\"\"\n",
    "        plt.imshow(self.data, cmap='gray')\n",
    "        plt.show()\n",
    "        return \"\"\n",
    "    \n",
    "\n",
    "    def clear(self):\n",
    "        \"\"\"clears the board, making the board only contain ' ' strings\n",
    "        Return: nothing, the 2D array is changed\n",
    "        \"\"\"\n",
    "        for i in range(0, self.height):\n",
    "            for j in range(0, self.width):\n",
    "                # clears the data and all of the arrays that have to do with the data\n",
    "                self.data[i][j] = 0\n",
    "                self.clusters = []\n",
    "                self.visited.clear()\n",
    "                \n",
    "    def random_populate(self, new_p):\n",
    "        self.data = np.random.rand(self.height, self.width)\n",
    "        for i in range(0, self.height):\n",
    "            for j in range(0, self.width):\n",
    "                # if a random number is less than the probability picked, fill the lattice\n",
    "                if self.data[i][j] <= new_p: \n",
    "                    self.data[i][j] = 1\n",
    "                else:\n",
    "                    self.data[i][j] = 0\n",
    "        return self\n",
    "    \n",
    "    def color_spanning_cluster(self):\n",
    "        \"\"\"Colors spanning clusters \"\"\"\n",
    "        num_clusters, clusters, spanning = self.get_clusters()\n",
    "        span_data = self.data\n",
    "        if spanning != []:\n",
    "            for i in range(self.height):\n",
    "                for j in range(self.width):\n",
    "                    if (i, j) in spanning[0]:\n",
    "                        span_data[i][j] = -1\n",
    "            plt.imshow(span_data, cmap='gray')\n",
    "            plt.show()\n",
    "        return \"\"\n",
    "\n",
    "    def get_clusters(self):\n",
    "        \"\"\"From a lattice, returns the number of clusters, the list of clusters and the tuples for each cell that\n",
    "        makes up the cluster, and any spanning cluster. \"\"\"\n",
    "        \n",
    "        span_clusters = []\n",
    "        \n",
    "        # find all clusters, double counting is ok\n",
    "        for i in range(self.height):\n",
    "            for j in range(self.width):\n",
    "                if self.data[i][j] == 1 and (i, j) not in self.visited:\n",
    "                    cluster = self.finish_cluster(i,j)\n",
    "                    self.clusters.append(cluster)\n",
    "\n",
    "        # assume we are always doing squares\n",
    "        for cluster in self.clusters:\n",
    "            if len(cluster) >= self.height and cluster not in span_clusters:\n",
    "                for cell in cluster:\n",
    "                    # if the cluster has a cell at row = 0 and col = 0\n",
    "                    if cell[0] == 0 and cell[1] == 0:\n",
    "                        for second_cell in cluster:\n",
    "                            if (second_cell[0] == self.width - 1) or (second_cell[1] == self.height - 1):\n",
    "                                if cluster not in span_clusters:\n",
    "                                    span_clusters.append(cluster)\n",
    "                                break\n",
    "                        \n",
    "                    # if the cluster has a cell at col = 0\n",
    "                    elif cell[0] == 0 and cell[1] != 0:\n",
    "                        for second_cell in cluster:\n",
    "                            if second_cell[0] == self.width - 1:\n",
    "                                if cluster not in span_clusters:\n",
    "                                    span_clusters.append(cluster)\n",
    "                                break\n",
    "                                \n",
    "                                \n",
    "                    # if the cluster has a cell at row = 0\n",
    "                    elif cell[1] == 0 and cell[1] != 0:\n",
    "                        for second_cell in cluster:\n",
    "                            if second_cell[1] == self.height - 1:\n",
    "                                if cluster not in span_clusters:\n",
    "                                    span_clusters.append(cluster)\n",
    "                                break\n",
    "                                \n",
    "\n",
    "\n",
    "        \n",
    "        num_clusters = len(self.clusters)      \n",
    "        return num_clusters, self.clusters, span_clusters\n",
    "    \n",
    "    def finish_cluster(self, i, j):\n",
    "        \"\"\"Helper function to get_clusters. finish_cluster is a recursive function that returns all adjacent\n",
    "        cells to a given cell that read 1. Returns a list \"\"\"\n",
    "        if not (0 <= i < self.height and 0 <= j < self.width):\n",
    "             return []\n",
    "        if self.data[i][j] != 1 or (i, j) in self.visited:\n",
    "            return []\n",
    "        self.visited.add((i, j))\n",
    "        res = [(i, j)]\n",
    "        res += self.finish_cluster(i-1, j)\n",
    "        res += self.finish_cluster(i+1, j)\n",
    "        res += (self.finish_cluster(i, j+1))\n",
    "        res += (self.finish_cluster(i,j-1))\n",
    "        return res \n",
    "\n",
    "\n"
   ]
  },
  {
   "cell_type": "code",
   "execution_count": 3,
   "metadata": {},
   "outputs": [],
   "source": [
    "lattice = Lattice(10,10,0.9)"
   ]
  },
  {
   "cell_type": "code",
   "execution_count": 4,
   "metadata": {},
   "outputs": [
    {
     "data": {
      "image/png": "[encoded data removed]",
      "text/plain": [
       "<Figure size 432x288 with 1 Axes>"
      ]
     },
     "metadata": {
      "needs_background": "light"
     },
     "output_type": "display_data"
    },
    {
     "data": {
      "text/plain": [
       "''"
      ]
     },
     "execution_count": 4,
     "metadata": {},
     "output_type": "execute_result"
    }
   ],
   "source": [
    "lattice.color_spanning_cluster()"
   ]
  },
  {
   "cell_type": "code",
   "execution_count": 5,
   "metadata": {},
   "outputs": [
    {
     "name": "stdout",
     "output_type": "stream",
     "text": [
      "Number of clusters: 1\n",
      "\n",
      "Clusters: \n",
      " [[(0, 0), (1, 0), (2, 0), (3, 0), (4, 0), (5, 0), (6, 0), (7, 0), (7, 1), (6, 1), (5, 1), (4, 1), (3, 1), (2, 1), (1, 1), (0, 1), (0, 2), (1, 2), (2, 2), (3, 2), (4, 2), (5, 2), (6, 2), (7, 2), (8, 2), (9, 2), (9, 3), (9, 4), (8, 4), (7, 4), (6, 4), (5, 4), (4, 4), (3, 4), (2, 4), (1, 4), (0, 4), (0, 5), (1, 5), (0, 6), (0, 7), (1, 7), (2, 7), (2, 6), (3, 6), (4, 6), (5, 6), (6, 6), (6, 7), (5, 7), (4, 7), (4, 8), (3, 8), (3, 9), (2, 9), (1, 9), (0, 9), (0, 8), (1, 8), (4, 9), (5, 9), (6, 9), (7, 9), (8, 9), (9, 9), (9, 8), (8, 8), (8, 7), (7, 7), (9, 7), (9, 6), (9, 5), (6, 8), (5, 8), (6, 5), (5, 5), (7, 5), (3, 5), (0, 3), (1, 3), (2, 3), (3, 3), (4, 3), (5, 3), (7, 3), (8, 1)]]\n",
      "\n",
      "Number of Spanning Clusters: 1\n",
      "\n",
      "Spanning Clusters: \n",
      " [[(0, 0), (1, 0), (2, 0), (3, 0), (4, 0), (5, 0), (6, 0), (7, 0), (7, 1), (6, 1), (5, 1), (4, 1), (3, 1), (2, 1), (1, 1), (0, 1), (0, 2), (1, 2), (2, 2), (3, 2), (4, 2), (5, 2), (6, 2), (7, 2), (8, 2), (9, 2), (9, 3), (9, 4), (8, 4), (7, 4), (6, 4), (5, 4), (4, 4), (3, 4), (2, 4), (1, 4), (0, 4), (0, 5), (1, 5), (0, 6), (0, 7), (1, 7), (2, 7), (2, 6), (3, 6), (4, 6), (5, 6), (6, 6), (6, 7), (5, 7), (4, 7), (4, 8), (3, 8), (3, 9), (2, 9), (1, 9), (0, 9), (0, 8), (1, 8), (4, 9), (5, 9), (6, 9), (7, 9), (8, 9), (9, 9), (9, 8), (8, 8), (8, 7), (7, 7), (9, 7), (9, 6), (9, 5), (6, 8), (5, 8), (6, 5), (5, 5), (7, 5), (3, 5), (0, 3), (1, 3), (2, 3), (3, 3), (4, 3), (5, 3), (7, 3), (8, 1)]]\n"
     ]
    }
   ],
   "source": [
    "num_clusters, clusters, spanning = lattice.get_clusters()\n",
    "\n",
    "print(f\"Number of clusters: {num_clusters}\")\n",
    "print()\n",
    "print(f\"Clusters: \\n {clusters}\")\n",
    "print()\n",
    "print(f\"Number of Spanning Clusters: {len(spanning)}\")\n",
    "print()\n",
    "print(f\"Spanning Clusters: \\n {spanning}\")"
   ]
  },
  {
   "cell_type": "code",
   "execution_count": null,
   "metadata": {},
   "outputs": [],
   "source": []
  }
 ],
 "metadata": {
  "kernelspec": {
   "display_name": "Python 3",
   "language": "python",
   "name": "python3"
  },
  "language_info": {
   "codemirror_mode": {
    "name": "ipython",
    "version": 3
   },
   "file_extension": ".py",
   "mimetype": "text/x-python",
   "name": "python",
   "nbconvert_exporter": "python",
   "pygments_lexer": "ipython3",
   "version": "3.8.8"
  },
  "vscode": {
   "interpreter": {
    "hash": "40d3a090f54c6569ab1632332b64b2c03c39dcf918b08424e98f38b5ae0af88f"
   }
  }
 },
 "nbformat": 4,
 "nbformat_minor": 2
}
