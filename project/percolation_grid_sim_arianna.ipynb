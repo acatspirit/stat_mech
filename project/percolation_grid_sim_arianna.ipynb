{
 "cells": [
  {
   "cell_type": "code",
   "execution_count": 5,
   "metadata": {},
   "outputs": [],
   "source": [
    "import numpy as np\n",
    "import matplotlib.pyplot as plt"
   ]
  },
  {
   "cell_type": "code",
   "execution_count": 10,
   "metadata": {},
   "outputs": [],
   "source": [
    "# Define the class for Lattice\n",
    "class Lattice(object):\n",
    "    \"\"\"A user-defined data structure that stores and manipulates lattice (2D - arrays)\n",
    "    \"\"\"\n",
    "\n",
    "    def __init__(self, width, height, p):\n",
    "        \"\"\"Constructs a board of width and height\"\"\"\n",
    "        self.height = height\n",
    "        self.width = width\n",
    "        self.data = np.random.rand(self.height, self.width)\n",
    "        self.p = p\n",
    "        self.clusters = []\n",
    "        self.visited = set()\n",
    "        self.span_clusters = []\n",
    "\n",
    "        for i in range(0, height):\n",
    "            for j in range(0, width):\n",
    "                # if a random number is less than the probability picked, fill the lattice\n",
    "                if self.data[i][j] <= self.p: \n",
    "                    self.data[i][j] = 1\n",
    "                else:\n",
    "                    self.data[i][j] = 0\n",
    "    \n",
    "    def __repr__(self):\n",
    "        \"\"\"Creates a 2D representation of the board object\"\"\"\n",
    "        plt.imshow(self.data, cmap='gray')\n",
    "        plt.show()\n",
    "        return \"\"\n",
    "    \n",
    "\n",
    "    def clear(self):\n",
    "        \"\"\"clears the board, making the board only contain ' ' strings\n",
    "        Return: nothing, the 2D array is changed\n",
    "        \"\"\"\n",
    "        for i in range(0, self.height):\n",
    "            for j in range(0, self.width):\n",
    "                # clears the data and all of the arrays that have to do with the data\n",
    "                self.data[i][j] = 0\n",
    "                self.clusters = []\n",
    "                self.span_clusters = []\n",
    "                self.visited.clear()\n",
    "\n",
    "    def get_clusters(self):\n",
    "        for i in range(self.height):\n",
    "            for j in range(self.width):\n",
    "                if self.data[i][j] == 1 and (i, j) not in self.visited:\n",
    "                    cluster = self.finish_cluster(i,j)\n",
    "                    self.clusters.append(cluster)\n",
    "\n",
    "        # get the spanning clusters ( does some repeated work but whatever)\n",
    "        # loop through each of the clusters and get the starting point\n",
    "        # count = 1\n",
    "\n",
    "        # Okay, so there is something wrong with this. If a cluster does not start at the top row (0th row)\n",
    "        # or leftMost column (0th column) then it will not see the cluster as a spanning path. So you \n",
    "        # have to loop through each cluster and if you find both a row with zero and a row with height-1\n",
    "        # then you add this to the spanning cluster (you can do this with two booleans) and you do the same\n",
    "        # but for the columns.\n",
    "        #\n",
    "        # Also its double counting and I do not know why. I thought I fixed it with the if and elif statements and break\n",
    "        # lines but that did not\n",
    "        for cluster in self.clusters:\n",
    "            # print(\"Count: \", count)\n",
    "            # count+=1\n",
    "            startPoint = cluster[0]\n",
    "            startRow = startPoint[0]\n",
    "            startCol = startPoint[1]\n",
    "            if startRow == 0 and startCol == 0:\n",
    "                # we want to find if any other row equals height-1 or col = wdith-1\n",
    "                for point in cluster:\n",
    "                    # if the point is in the last row (self.height-1) then we want to add it to the spanning clusters array\n",
    "                    if point[0] == self.height-1 or point[1] == self.width-1:\n",
    "                        self.span_clusters.append(cluster)\n",
    "                        break\n",
    "            if startRow == 0:\n",
    "                # we want to find if any other row equals height-1\n",
    "                for point in cluster:\n",
    "                    # if the point is in the last row (self.height-1) then we want to add it to the spanning clusters array\n",
    "                    if point[0] == self.height-1:\n",
    "                        self.span_clusters.append(cluster)\n",
    "                        break\n",
    "            if startCol == 0:\n",
    "                # we want to find if any other column equals width-1\n",
    "                for point in cluster:\n",
    "                    # if the point is in column self.width-1 we add it to the spanning clusters array\n",
    "                    if point[1] == self.width-1:\n",
    "                        self.span_clusters.append(cluster)\n",
    "                        break\n",
    "\n",
    "\n",
    "        \n",
    "        num_clusters = len(self.clusters)      \n",
    "        return num_clusters, self.clusters, self.span_clusters\n",
    "    \n",
    "    def finish_cluster(self, i, j):\n",
    "        if not (0 <= i < self.height and 0 <= j < self.width):\n",
    "             return []\n",
    "        if self.data[i][j] != 1 or (i, j) in self.visited:\n",
    "            return []\n",
    "        self.visited.add((i, j))\n",
    "        res = [(i, j)]\n",
    "        res += self.finish_cluster(i-1, j)\n",
    "        res += self.finish_cluster(i+1, j)\n",
    "        res += (self.finish_cluster(i, j+1))\n",
    "        res += (self.finish_cluster(i,j-1))\n",
    "        # print(\"res: \", res)\n",
    "        return res \n",
    "\n",
    "\n"
   ]
  },
  {
   "cell_type": "code",
   "execution_count": 11,
   "metadata": {},
   "outputs": [],
   "source": [
    "lattice = Lattice(10,10,0.6)"
   ]
  },
  {
   "cell_type": "code",
   "execution_count": 12,
   "metadata": {},
   "outputs": [
    {
     "data": {
      "image/png": "[encoded data removed]",
      "text/plain": [
       "<Figure size 432x288 with 1 Axes>"
      ]
     },
     "metadata": {
      "needs_background": "light"
     },
     "output_type": "display_data"
    },
    {
     "name": "stdout",
     "output_type": "stream",
     "text": [
      "\n"
     ]
    }
   ],
   "source": [
    "print(lattice)"
   ]
  },
  {
   "cell_type": "code",
   "execution_count": 13,
   "metadata": {},
   "outputs": [
    {
     "name": "stdout",
     "output_type": "stream",
     "text": [
      "Number of clusters: 3\n",
      "\n",
      "Clusters: \n",
      " [[(0, 0), (1, 0), (2, 0), (3, 0)], [(0, 2), (0, 3), (1, 3), (2, 3), (3, 3), (3, 4), (4, 4), (4, 5), (3, 5), (2, 5), (1, 5), (0, 5), (1, 6), (1, 7), (0, 7), (0, 8), (1, 8), (2, 8), (2, 9), (1, 9), (2, 7), (3, 7), (4, 7), (4, 6), (3, 6), (5, 6), (6, 6), (7, 6), (8, 6), (9, 6), (9, 5), (8, 5), (7, 5), (6, 5), (5, 5), (8, 4), (9, 4), (9, 3), (9, 2), (9, 1), (9, 0), (8, 0), (7, 0), (7, 1), (6, 1), (6, 2), (5, 2), (7, 2), (7, 3), (7, 7), (7, 8), (8, 8), (7, 9), (3, 2)], [(5, 8), (5, 9)]]\n",
      "\n",
      "Number of Spanning Clusters: 1\n",
      "\n",
      "Spanning Clusters: \n",
      " [[(0, 2), (0, 3), (1, 3), (2, 3), (3, 3), (3, 4), (4, 4), (4, 5), (3, 5), (2, 5), (1, 5), (0, 5), (1, 6), (1, 7), (0, 7), (0, 8), (1, 8), (2, 8), (2, 9), (1, 9), (2, 7), (3, 7), (4, 7), (4, 6), (3, 6), (5, 6), (6, 6), (7, 6), (8, 6), (9, 6), (9, 5), (8, 5), (7, 5), (6, 5), (5, 5), (8, 4), (9, 4), (9, 3), (9, 2), (9, 1), (9, 0), (8, 0), (7, 0), (7, 1), (6, 1), (6, 2), (5, 2), (7, 2), (7, 3), (7, 7), (7, 8), (8, 8), (7, 9), (3, 2)]]\n"
     ]
    }
   ],
   "source": [
    "num_clusters, clusters, spanning = lattice.get_clusters()\n",
    "\n",
    "print(f\"Number of clusters: {num_clusters}\")\n",
    "print()\n",
    "print(f\"Clusters: \\n {clusters}\")\n",
    "print()\n",
    "print(f\"Number of Spanning Clusters: {len(spanning)}\")\n",
    "print()\n",
    "print(f\"Spanning Clusters: \\n {spanning}\")"
   ]
  },
  {
   "cell_type": "code",
   "execution_count": 14,
   "metadata": {},
   "outputs": [
    {
     "name": "stdout",
     "output_type": "stream",
     "text": [
      "[]\n"
     ]
    }
   ],
   "source": [
    "test = []\n",
    "print(test)"
   ]
  },
  {
   "cell_type": "code",
   "execution_count": 15,
   "metadata": {},
   "outputs": [
    {
     "name": "stdout",
     "output_type": "stream",
     "text": [
      "[[]]\n"
     ]
    }
   ],
   "source": [
    "test.append([])\n",
    "print(test)"
   ]
  },
  {
   "cell_type": "code",
   "execution_count": null,
   "metadata": {},
   "outputs": [],
   "source": []
  }
 ],
 "metadata": {
  "kernelspec": {
   "display_name": "Python 3",
   "language": "python",
   "name": "python3"
  },
  "language_info": {
   "codemirror_mode": {
    "name": "ipython",
    "version": 3
   },
   "file_extension": ".py",
   "mimetype": "text/x-python",
   "name": "python",
   "nbconvert_exporter": "python",
   "pygments_lexer": "ipython3",
   "version": "3.8.8"
  },
  "vscode": {
   "interpreter": {
    "hash": "40d3a090f54c6569ab1632332b64b2c03c39dcf918b08424e98f38b5ae0af88f"
   }
  }
 },
 "nbformat": 4,
 "nbformat_minor": 2
}
