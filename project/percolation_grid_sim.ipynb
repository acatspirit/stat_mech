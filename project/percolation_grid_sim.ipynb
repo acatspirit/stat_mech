{
 "cells": [
  {
   "cell_type": "code",
   "execution_count": 4,
   "metadata": {},
   "outputs": [],
   "source": [
    "import numpy as np\n",
    "import matplotlib.pyplot as plt"
   ]
  },
  {
   "cell_type": "code",
   "execution_count": 147,
   "metadata": {},
   "outputs": [],
   "source": [
    "# Define the class for Lattice\n",
    "class Lattice(object):\n",
    "    \"\"\"A user-defined data structure that stores and manipulates lattice (2D - arrays)\n",
    "    \"\"\"\n",
    "\n",
    "    def __init__(self, width, height, p):\n",
    "        \"\"\"Constructs a board of width and height\"\"\"\n",
    "        self.height = height\n",
    "        self.width = width\n",
    "        self.data = np.random.rand(self.height, self.width)\n",
    "        self.p = p\n",
    "        self.clusters = []\n",
    "        self.visited = set()\n",
    "        self.span_clusters = []\n",
    "\n",
    "        for i in range(0, height):\n",
    "            for j in range(0, width):\n",
    "                # if a random number is less than the probability picked, fill the lattice\n",
    "                if self.data[i][j] <= self.p: \n",
    "                    self.data[i][j] = 1\n",
    "                else:\n",
    "                    self.data[i][j] = 0\n",
    "    \n",
    "    def __repr__(self):\n",
    "        \"\"\"Creates a 2D representation of the board object\"\"\"\n",
    "        plt.imshow(self.data, cmap='gray')\n",
    "        plt.show()\n",
    "        return \"\"\n",
    "    \n",
    "\n",
    "    def clear(self):\n",
    "        \"\"\"clears the board, making the board only contain ' ' strings\n",
    "        Return: nothing, the 2D array is changed\n",
    "        \"\"\"\n",
    "        for i in range(0, self.height):\n",
    "            for j in range(0, self.width):\n",
    "                self.data[i][j] = 0\n",
    "\n",
    "    def get_clusters(self):\n",
    "        for i in range(self.height):\n",
    "            for j in range(self.width):\n",
    "                if self.data[i][j] == 1:\n",
    "                    cluster = self.finish_cluster(i,j)\n",
    "                    if i == 0 or j == 0:\n",
    "                        self.span_clusters.append(cluster)\n",
    "                    self.clusters.append(cluster)\n",
    "        \n",
    "        num_clusters = len(self.clusters)      \n",
    "        return num_clusters, self.clusters, self.span_clusters\n",
    "    \n",
    "    def finish_cluster(self, i, j):\n",
    "        if not (0 <= i < self.height and 0 <= j < self.width):\n",
    "             return []\n",
    "        if self.data[i][j] != 1 or (i, j) in self.visited:\n",
    "            return []\n",
    "        self.visited.add((i, j))\n",
    "        print(f\"{i}, {j}\")\n",
    "        res = [(i, j)] \n",
    "        res += self.finish_cluster(i+1, j)\n",
    "        res += (self.finish_cluster(i, j+1))\n",
    "        res += (self.finish_cluster(i,j-1))\n",
    "        # print(\"res: \", res)\n",
    "        return res \n",
    "\n",
    "\n"
   ]
  },
  {
   "cell_type": "code",
   "execution_count": 148,
   "metadata": {},
   "outputs": [],
   "source": [
    "lattice = Lattice(10,10,0.4)"
   ]
  },
  {
   "cell_type": "code",
   "execution_count": 149,
   "metadata": {},
   "outputs": [
    {
     "data": {
      "image/png": "[encoded data removed]",
      "text/plain": [
       "<Figure size 432x288 with 1 Axes>"
      ]
     },
     "metadata": {
      "needs_background": "light"
     },
     "output_type": "display_data"
    },
    {
     "name": "stdout",
     "output_type": "stream",
     "text": [
      "\n"
     ]
    }
   ],
   "source": [
    "print(lattice)"
   ]
  },
  {
   "cell_type": "code",
   "execution_count": 150,
   "metadata": {},
   "outputs": [
    {
     "name": "stdout",
     "output_type": "stream",
     "text": [
      "0, 0\n",
      "1, 0\n",
      "1, 1\n",
      "0, 1\n",
      "0, 3\n",
      "1, 3\n",
      "0, 9\n",
      "1, 9\n",
      "2, 9\n",
      "2, 8\n",
      "1, 5\n",
      "1, 6\n",
      "2, 6\n",
      "3, 6\n",
      "3, 0\n",
      "3, 2\n",
      "3, 4\n",
      "4, 4\n",
      "4, 5\n",
      "5, 5\n",
      "6, 5\n",
      "7, 5\n",
      "7, 6\n",
      "8, 6\n",
      "9, 6\n",
      "9, 7\n",
      "9, 5\n",
      "9, 4\n",
      "7, 7\n",
      "7, 8\n",
      "7, 9\n",
      "6, 6\n",
      "6, 4\n",
      "6, 3\n",
      "4, 8\n",
      "5, 0\n",
      "6, 0\n",
      "6, 1\n",
      "5, 3\n",
      "5, 7\n",
      "8, 2\n",
      "9, 0\n",
      "42 [[(0, 0), (1, 0), (1, 1), (0, 1)], [], [(0, 3), (1, 3)], [(0, 9), (1, 9), (2, 9), (2, 8)], [], [], [], [(1, 5), (1, 6), (2, 6), (3, 6)], [], [], [], [], [], [(3, 0)], [(3, 2)], [(3, 4), (4, 4), (4, 5), (5, 5), (6, 5), (7, 5), (7, 6), (8, 6), (9, 6), (9, 7), (9, 5), (9, 4), (7, 7), (7, 8), (7, 9), (6, 6), (6, 4), (6, 3)], [], [], [], [(4, 8)], [(5, 0), (6, 0), (6, 1)], [(5, 3)], [], [(5, 7)], [], [], [], [], [], [], [], [], [], [], [], [(8, 2)], [], [(9, 0)], [], [], [], []]\n"
     ]
    }
   ],
   "source": [
    "num_clusters, clusters, spanning = lattice.get_clusters()\n",
    "\n",
    "print(num_clusters,clusters)#,spanning)"
   ]
  },
  {
   "cell_type": "code",
   "execution_count": 151,
   "metadata": {},
   "outputs": [
    {
     "name": "stdout",
     "output_type": "stream",
     "text": [
      "[]\n"
     ]
    }
   ],
   "source": [
    "test = []\n",
    "print(test)"
   ]
  },
  {
   "cell_type": "code",
   "execution_count": 152,
   "metadata": {},
   "outputs": [
    {
     "name": "stdout",
     "output_type": "stream",
     "text": [
      "[[]]\n"
     ]
    }
   ],
   "source": [
    "test.append([])\n",
    "print(test)"
   ]
  }
 ],
 "metadata": {
  "kernelspec": {
   "display_name": "Python 3.8.8 ('base')",
   "language": "python",
   "name": "python3"
  },
  "language_info": {
   "codemirror_mode": {
    "name": "ipython",
    "version": 3
   },
   "file_extension": ".py",
   "mimetype": "text/x-python",
   "name": "python",
   "nbconvert_exporter": "python",
   "pygments_lexer": "ipython3",
   "version": "3.8.8"
  },
  "orig_nbformat": 4,
  "vscode": {
   "interpreter": {
    "hash": "40d3a090f54c6569ab1632332b64b2c03c39dcf918b08424e98f38b5ae0af88f"
   }
  }
 },
 "nbformat": 4,
 "nbformat_minor": 2
}
