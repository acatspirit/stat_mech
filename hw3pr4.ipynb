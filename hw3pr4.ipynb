{
 "cells": [
  {
   "cell_type": "markdown",
   "id": "635be586",
   "metadata": {},
   "source": [
    "## Hydrogen Atom\n",
    "#### Thermal radiation at temperature T"
   ]
  },
  {
   "cell_type": "code",
   "execution_count": 5,
   "id": "94f4d742",
   "metadata": {},
   "outputs": [],
   "source": [
    "from math import exp\n",
    "import numpy as np\n",
    "import matplotlib.pyplot as plt\n",
    "import pandas as pd"
   ]
  },
  {
   "cell_type": "markdown",
   "id": "558af34f",
   "metadata": {},
   "source": [
    "#### (a) At room temperature, T = 300K, what is the probability of finding the atom in the first excited state (n=2)?"
   ]
  },
  {
   "cell_type": "markdown",
   "id": "13f64c3e",
   "metadata": {},
   "source": [
    "We can refer to our quantum notes to get the energy levels of hydrogen: $E_{n} = \\frac{-me^4}{2n^2\\hbar}$. The multiplicity of the energy levels scale as $n^2$. Then we get the expression for probability:  $$P(n=2) = \\frac{2^2e^{\\frac{-E_2}{k_{b}T}}}{\\sum_{n}^{\\infty}n^{2}e^{\\frac{-E_n}{k_{b}T}}}$$\n",
    "Limiting our consideration to the first 10 energy levels, we get instead: $$P(n=2) = \\frac{2^2e^{\\frac{-E_2}{k_{b}T}}}{\\sum_{n}^{10}n^{2}e^{\\frac{-E_n}{k_{b}T}}}$$ Now we can calculate this probability:"
   ]
  },
  {
   "cell_type": "code",
   "execution_count": 114,
   "id": "2b45b678",
   "metadata": {},
   "outputs": [
    {
     "data": {
      "text/plain": [
       "[-2.179872327158994e-18,\n",
       " -5.449680817897485e-19,\n",
       " -2.422080363509993e-19,\n",
       " -1.3624202044743712e-19,\n",
       " -8.719489308635977e-20,\n",
       " -6.055200908774982e-20,\n",
       " -4.448719035018355e-20,\n",
       " -3.406050511185928e-20,\n",
       " -2.6912004038999935e-20,\n",
       " -2.1798723271589943e-20]"
      ]
     },
     "execution_count": 114,
     "metadata": {},
     "output_type": "execute_result"
    }
   ],
   "source": [
    "# first we can define our constants\n",
    "m = 9.1093837e-31 # kg\n",
    "hbar = 1.05457182e-34 # Js\n",
    "kb = 1.3806452e-23 # J/K\n",
    "charge =1.60217663e-19 # C\n",
    "T = 300 # K \n",
    "num_e = 10\n",
    "n=2\n",
    "eps_0 = 8.854187817e-12 # permittivity of charge\n",
    "\n",
    "# we can define our list of energies to represent energy levels\n",
    "eps = [(-m*charge**4)/(2*(n*hbar*4*np.pi*eps_0)**2) for n in range(num_e + 1)[1:]]\n",
    "eps[:10]"
   ]
  },
  {
   "cell_type": "code",
   "execution_count": 115,
   "id": "67331823",
   "metadata": {},
   "outputs": [
    {
     "name": "stdout",
     "output_type": "stream",
     "text": [
      "The probability at T=300K with 10 energy levels: 1.504535188522937e-171\n"
     ]
    }
   ],
   "source": [
    "# now we can calculate P(n=2) based on energy levels we can create\n",
    "\n",
    "def calc_prob(num_e, T, n):\n",
    "    \"\"\" Gives the probability a H atom will be in a energy level n when coupled to a reservoir\n",
    "        inputs: num_e - number of total energy levels\n",
    "                T - temperature of the reservoir\n",
    "                n - the energy level of interest\n",
    "        returns: float P_n - probability n is the H atom state\n",
    "    \"\"\"\n",
    "    energy_n = n**2*(exp(-eps[n-1]/(kb*T)))\n",
    "    Z = sum([(i+1)**2*exp(-eps[i]/(kb*T)) for i in range(num_e)])\n",
    "    P_n = energy_n/Z\n",
    "    return P_n\n",
    "\n",
    "p2 = calc_prob(10, 300,2)\n",
    "print(\"The probability at T=300K with 10 energy levels:\", p2)"
   ]
  },
  {
   "cell_type": "markdown",
   "id": "8b30c0f8",
   "metadata": {},
   "source": [
    "#### (b) If T=6000K, which is roughly the surface of temperature of the Sun, what is the probability that the atom will be found in the first excited state? \n",
    "We can repeat the same calculation as in part (a), but now we can tweak the temperature:"
   ]
  },
  {
   "cell_type": "code",
   "execution_count": 116,
   "id": "41d13eed",
   "metadata": {},
   "outputs": [
    {
     "name": "stdout",
     "output_type": "stream",
     "text": [
      "The probability at T=6000K with 10 energy levels: 1.073561932078629e-08\n"
     ]
    }
   ],
   "source": [
    "T2 = 6000\n",
    "p2 = calc_prob(10, 6000, 2)\n",
    "print(\"The probability at T=6000K with 10 energy levels:\", p2)"
   ]
  },
  {
   "cell_type": "markdown",
   "id": "658bf6d1",
   "metadata": {},
   "source": [
    "#### (c) At what temperature is the probability of finding the atom in a state at n = 2 the same as finding it in any of the other states with n between 3 and 6 inclusive?\n",
    "We can iterate through possible temperatures and calculate the probabilites at n = 2, and 3 $\\leq n \\leq 6$."
   ]
  },
  {
   "cell_type": "code",
   "execution_count": 126,
   "id": "3d31349e",
   "metadata": {},
   "outputs": [
    {
     "name": "stdout",
     "output_type": "stream",
     "text": [
      "The temperature at which the probabilities are the same is 10157 K\n"
     ]
    }
   ],
   "source": [
    "T_x = 0\n",
    "P2L = []\n",
    "P36L = []\n",
    "delta = 0\n",
    "\n",
    "for t in range(5000,15000):\n",
    "    P_2 = calc_prob(10, t, 2)\n",
    "    P_36 = calc_prob(10,t,3) + calc_prob(10,t,4) + calc_prob(10,t,5) + calc_prob(10,t,6)\n",
    "    \n",
    "    P2L += [P_2]\n",
    "    P36L += [P_36]\n",
    "    delta = 1e-9\n",
    "    if P_2 < P_36 + delta and P_2 > P_36 - delta:\n",
    "        T_x = t\n",
    "\n",
    "print(\"The temperature at which the probabilities are the same is\", T_x, \"K\")"
   ]
  },
  {
   "cell_type": "code",
   "execution_count": 118,
   "id": "61e893d7",
   "metadata": {},
   "outputs": [
    {
     "data": {
      "text/plain": [
       "<AxesSubplot:xlabel='Temperature, K', ylabel='Probability'>"
      ]
     },
     "execution_count": 118,
     "metadata": {},
     "output_type": "execute_result"
    },
    {
     "data": {
      "image/png": "[encoded data removed]",
      "text/plain": [
       "<Figure size 432x288 with 1 Axes>"
      ]
     },
     "metadata": {
      "needs_background": "light"
     },
     "output_type": "display_data"
    }
   ],
   "source": [
    "fig, ax = plt.subplots()\n",
    "plt.yscale('log')\n",
    "ax.plot(range(5000,15000), P2L, label=\"Probability of n=2\")\n",
    "ax.plot(range(5000,15000), P36L, label=\"Probability of n 3 through 6\")\n",
    "ax.set_xlabel(\"Temperature, K\")\n",
    "ax.set_ylabel(\"Probability\")\n",
    "ax.legend()\n",
    "ax"
   ]
  },
  {
   "cell_type": "code",
   "execution_count": null,
   "id": "f2ac183c",
   "metadata": {},
   "outputs": [],
   "source": []
  }
 ],
 "metadata": {
  "kernelspec": {
   "display_name": "Python 3 (ipykernel)",
   "language": "python",
   "name": "python3"
  },
  "language_info": {
   "codemirror_mode": {
    "name": "ipython",
    "version": 3
   },
   "file_extension": ".py",
   "mimetype": "text/x-python",
   "name": "python",
   "nbconvert_exporter": "python",
   "pygments_lexer": "ipython3",
   "version": "3.9.12"
  }
 },
 "nbformat": 4,
 "nbformat_minor": 5
}
