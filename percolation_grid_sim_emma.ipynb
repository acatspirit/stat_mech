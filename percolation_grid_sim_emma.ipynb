{
 "cells": [
  {
   "cell_type": "code",
   "execution_count": 13,
   "metadata": {},
   "outputs": [],
   "source": [
    "import numpy as np\n",
    "import matplotlib.pyplot as plt"
   ]
  },
  {
   "cell_type": "code",
   "execution_count": 31,
   "metadata": {},
   "outputs": [],
   "source": [
    "# Define the class for Lattice\n",
    "class Lattice(object):\n",
    "    \"\"\"A user-defined data structure that stores and manipulates lattice (2D - arrays)\n",
    "    \"\"\"\n",
    "\n",
    "    def __init__(self, width, height, p):\n",
    "        \"\"\"Constructs a board of width and height\"\"\"\n",
    "        self.height = height\n",
    "        self.width = width\n",
    "        self.data = np.random.rand(self.height, self.width)\n",
    "        self.p = p\n",
    "        self.clusters = []\n",
    "        self.visited = set()\n",
    "        self.span_clusters = []\n",
    "\n",
    "        for i in range(0, height):\n",
    "            for j in range(0, width):\n",
    "                # if a random number is less than the probability picked, fill the lattice\n",
    "                if self.data[i][j] <= self.p: \n",
    "                    self.data[i][j] = 1\n",
    "                else:\n",
    "                    self.data[i][j] = 0\n",
    "    \n",
    "    def __repr__(self):\n",
    "        \"\"\"Creates a 2D representation of the board object\"\"\"\n",
    "        plt.imshow(self.data, cmap='gray')\n",
    "        plt.show()\n",
    "        return \"\"\n",
    "    \n",
    "    def clear(self):\n",
    "        \"\"\"clears the board, making the board only contain ' ' strings\n",
    "        Return: nothing, the 2D array is changed\n",
    "        \"\"\"\n",
    "        for i in range(0, self.height):\n",
    "            for j in range(0, self.width):\n",
    "                self.data[i][j] = 0\n",
    "\n",
    "    def get_clusters(self):\n",
    "        for i in range(self.height):\n",
    "            for j in range(self.width):\n",
    "                if self.data[i][j] == 1:\n",
    "                    cluster = self.finish_cluster(i,j)\n",
    "                    if i == 0 or j == 0:\n",
    "                        self.span_clusters.append(cluster)\n",
    "                    self.clusters.append(cluster)\n",
    "        \n",
    "        num_clusters = len(self.clusters)      \n",
    "        return num_clusters, self.clusters, self.span_clusters\n",
    "    \n",
    "    def finish_cluster(self, i, j):\n",
    "        if not (0 <= i < self.height and 0 <= j < self.width):\n",
    "             return []\n",
    "        if self.data[i][j] != 1 or (i, j) in self.visited:\n",
    "            return []\n",
    "        self.visited.add((i, j))\n",
    "        print(f\"{i}, {j}\")\n",
    "        res = [(i, j)] \n",
    "        res += self.finish_cluster(i+1, j)\n",
    "        res += (self.finish_cluster(i, j+1))\n",
    "        res += (self.finish_cluster(i,j-1))\n",
    "        # print(\"res: \", res)\n",
    "        return res \n",
    "\n",
    "    def color_spanning_cluster(self):\n",
    "        \"\"\"Colors spanning clusters \"\"\"\n",
    "        num_clusters, clusters, spanning = self.get_clusters()\n",
    "        span_data = self.data\n",
    "        for i in range(self.height):\n",
    "            for j in range(self.width):\n",
    "                if (i, j) in spanning[0]:\n",
    "                    span_data[i][j] = -1\n",
    "        plt.imshow(span_data, cmap='gray')\n",
    "        plt.show()\n",
    "        return \"\"\n"
   ]
  },
  {
   "cell_type": "code",
   "execution_count": 32,
   "metadata": {},
   "outputs": [],
   "source": [
    "lattice = Lattice(10,10,0.4)"
   ]
  },
  {
   "cell_type": "code",
   "execution_count": 33,
   "metadata": {},
   "outputs": [
    {
     "data": {
      "image/png": "[encoded data removed]",
      "text/plain": [
       "<Figure size 432x288 with 1 Axes>"
      ]
     },
     "metadata": {
      "needs_background": "light"
     },
     "output_type": "display_data"
    },
    {
     "name": "stdout",
     "output_type": "stream",
     "text": [
      "\n"
     ]
    }
   ],
   "source": [
    "print(lattice)"
   ]
  },
  {
   "cell_type": "code",
   "execution_count": 34,
   "metadata": {},
   "outputs": [
    {
     "name": "stdout",
     "output_type": "stream",
     "text": [
      "0, 1\n",
      "0, 2\n",
      "0, 4\n",
      "1, 4\n",
      "0, 5\n",
      "0, 6\n",
      "1, 6\n",
      "1, 9\n",
      "2, 0\n",
      "2, 5\n",
      "3, 1\n",
      "3, 2\n",
      "4, 2\n",
      "4, 3\n",
      "5, 3\n",
      "5, 4\n",
      "6, 4\n",
      "5, 5\n",
      "5, 6\n",
      "3, 3\n",
      "3, 4\n",
      "3, 8\n",
      "3, 9\n",
      "4, 0\n",
      "5, 0\n",
      "5, 1\n",
      "4, 5\n",
      "7, 0\n",
      "7, 2\n",
      "8, 2\n",
      "9, 2\n",
      "7, 5\n",
      "7, 8\n",
      "7, 9\n",
      "8, 7\n",
      "9, 7\n",
      "9, 6\n",
      "37 [[(0, 1), (0, 2)], [], [(0, 4), (1, 4), (0, 5), (0, 6), (1, 6)], [], [], [(2, 0)], [(4, 0), (5, 0), (5, 1)], [], [(7, 0)]]\n"
     ]
    },
    {
     "data": {
      "image/png": "[encoded data removed]",
      "text/plain": [
       "<Figure size 432x288 with 1 Axes>"
      ]
     },
     "metadata": {
      "needs_background": "light"
     },
     "output_type": "display_data"
    },
    {
     "data": {
      "text/plain": [
       "''"
      ]
     },
     "execution_count": 34,
     "metadata": {},
     "output_type": "execute_result"
    }
   ],
   "source": [
    "num_clusters, clusters, spanning = lattice.get_clusters()\n",
    "\n",
    "#print(num_clusters,clusters,spanning)\n",
    "print(num_clusters,spanning)\n",
    "lattice.color_spanning_cluster()"
   ]
  },
  {
   "cell_type": "code",
   "execution_count": 30,
   "metadata": {},
   "outputs": [
    {
     "name": "stdout",
     "output_type": "stream",
     "text": [
      "[]\n"
     ]
    }
   ],
   "source": [
    "test = []\n",
    "print(test)"
   ]
  },
  {
   "cell_type": "code",
   "execution_count": 7,
   "metadata": {},
   "outputs": [
    {
     "name": "stdout",
     "output_type": "stream",
     "text": [
      "[[]]\n"
     ]
    }
   ],
   "source": [
    "test.append([])\n",
    "print(test)"
   ]
  },
  {
   "cell_type": "code",
   "execution_count": null,
   "metadata": {},
   "outputs": [],
   "source": []
  }
 ],
 "metadata": {
  "kernelspec": {
   "display_name": "Python 3",
   "language": "python",
   "name": "python3"
  },
  "language_info": {
   "codemirror_mode": {
    "name": "ipython",
    "version": 3
   },
   "file_extension": ".py",
   "mimetype": "text/x-python",
   "name": "python",
   "nbconvert_exporter": "python",
   "pygments_lexer": "ipython3",
   "version": "3.8.3"
  },
  "vscode": {
   "interpreter": {
    "hash": "40d3a090f54c6569ab1632332b64b2c03c39dcf918b08424e98f38b5ae0af88f"
   }
  }
 },
 "nbformat": 4,
 "nbformat_minor": 4
}
